{
  "nbformat": 4,
  "nbformat_minor": 0,
  "metadata": {
    "colab": {
      "name": "HFT Solution.ipynb",
      "provenance": [],
      "collapsed_sections": []
    },
    "kernelspec": {
      "display_name": "Python 3",
      "name": "python3"
    },
    "language_info": {
      "name": "python"
    }
  },
  "cells": [
    {
      "cell_type": "markdown",
      "metadata": {
        "id": "bDujPTyV0GaY"
      },
      "source": [
        "###Description Order Book"
      ]
    },
    {
      "cell_type": "code",
      "metadata": {
        "id": "NaAy2vux0Ibq"
      },
      "source": [
        "import pandas as pd\n",
        "Bid_Size=[1000,700,800,900,500,400,600,800,1200,1000,1100,1200,1300,500,2000]\n",
        "Bid_Price=[11.35,11.34,11.33,11.32,11.31,11.30,11.29,11.28,11.27,11.26,11.25,11.24,11.23,11.22,11.21]\n",
        "df1=pd.DataFrame({\"Bid Size\":Bid_Size,\"Bid Price\": Bid_Price})"
      ],
      "execution_count": null,
      "outputs": []
    },
    {
      "cell_type": "code",
      "metadata": {
        "colab": {
          "base_uri": "https://localhost:8080/",
          "height": 491
        },
        "id": "zeBq7nd4dLR2",
        "outputId": "f406b400-b7de-4bbe-d0e9-9069544c1ffe"
      },
      "source": [
        "df1"
      ],
      "execution_count": null,
      "outputs": [
        {
          "output_type": "execute_result",
          "data": {
            "text/html": [
              "<div>\n",
              "<style scoped>\n",
              "    .dataframe tbody tr th:only-of-type {\n",
              "        vertical-align: middle;\n",
              "    }\n",
              "\n",
              "    .dataframe tbody tr th {\n",
              "        vertical-align: top;\n",
              "    }\n",
              "\n",
              "    .dataframe thead th {\n",
              "        text-align: right;\n",
              "    }\n",
              "</style>\n",
              "<table border=\"1\" class=\"dataframe\">\n",
              "  <thead>\n",
              "    <tr style=\"text-align: right;\">\n",
              "      <th></th>\n",
              "      <th>Bid Size</th>\n",
              "      <th>Bid Price</th>\n",
              "    </tr>\n",
              "  </thead>\n",
              "  <tbody>\n",
              "    <tr>\n",
              "      <th>0</th>\n",
              "      <td>1000</td>\n",
              "      <td>11.35</td>\n",
              "    </tr>\n",
              "    <tr>\n",
              "      <th>1</th>\n",
              "      <td>700</td>\n",
              "      <td>11.34</td>\n",
              "    </tr>\n",
              "    <tr>\n",
              "      <th>2</th>\n",
              "      <td>800</td>\n",
              "      <td>11.33</td>\n",
              "    </tr>\n",
              "    <tr>\n",
              "      <th>3</th>\n",
              "      <td>900</td>\n",
              "      <td>11.32</td>\n",
              "    </tr>\n",
              "    <tr>\n",
              "      <th>4</th>\n",
              "      <td>500</td>\n",
              "      <td>11.31</td>\n",
              "    </tr>\n",
              "    <tr>\n",
              "      <th>5</th>\n",
              "      <td>400</td>\n",
              "      <td>11.30</td>\n",
              "    </tr>\n",
              "    <tr>\n",
              "      <th>6</th>\n",
              "      <td>600</td>\n",
              "      <td>11.29</td>\n",
              "    </tr>\n",
              "    <tr>\n",
              "      <th>7</th>\n",
              "      <td>800</td>\n",
              "      <td>11.28</td>\n",
              "    </tr>\n",
              "    <tr>\n",
              "      <th>8</th>\n",
              "      <td>1200</td>\n",
              "      <td>11.27</td>\n",
              "    </tr>\n",
              "    <tr>\n",
              "      <th>9</th>\n",
              "      <td>1000</td>\n",
              "      <td>11.26</td>\n",
              "    </tr>\n",
              "    <tr>\n",
              "      <th>10</th>\n",
              "      <td>1100</td>\n",
              "      <td>11.25</td>\n",
              "    </tr>\n",
              "    <tr>\n",
              "      <th>11</th>\n",
              "      <td>1200</td>\n",
              "      <td>11.24</td>\n",
              "    </tr>\n",
              "    <tr>\n",
              "      <th>12</th>\n",
              "      <td>1300</td>\n",
              "      <td>11.23</td>\n",
              "    </tr>\n",
              "    <tr>\n",
              "      <th>13</th>\n",
              "      <td>500</td>\n",
              "      <td>11.22</td>\n",
              "    </tr>\n",
              "    <tr>\n",
              "      <th>14</th>\n",
              "      <td>2000</td>\n",
              "      <td>11.21</td>\n",
              "    </tr>\n",
              "  </tbody>\n",
              "</table>\n",
              "</div>"
            ],
            "text/plain": [
              "    Bid Size  Bid Price\n",
              "0       1000      11.35\n",
              "1        700      11.34\n",
              "2        800      11.33\n",
              "3        900      11.32\n",
              "4        500      11.31\n",
              "5        400      11.30\n",
              "6        600      11.29\n",
              "7        800      11.28\n",
              "8       1200      11.27\n",
              "9       1000      11.26\n",
              "10      1100      11.25\n",
              "11      1200      11.24\n",
              "12      1300      11.23\n",
              "13       500      11.22\n",
              "14      2000      11.21"
            ]
          },
          "metadata": {
            "tags": []
          },
          "execution_count": 42
        }
      ]
    },
    {
      "cell_type": "code",
      "metadata": {
        "colab": {
          "base_uri": "https://localhost:8080/",
          "height": 432
        },
        "id": "UQr0Yl4wdT0I",
        "outputId": "612dcc47-c187-4096-aaea-d87473871293"
      },
      "source": [
        "Ask_Size=[1000,700,800,900,500,400,600,800,1200,1000,1100,1200,1300]\n",
        "Ask_Price=[11.38,11.39,11.40,11.41,11.42,11.43,11.44,11.45,11.46,11.47,11.48,11.49,11.50,]\n",
        "df2=pd.DataFrame({\"Ask Size\":Ask_Size,\"Ask Price\":Ask_Price})\n",
        "df2"
      ],
      "execution_count": null,
      "outputs": [
        {
          "output_type": "execute_result",
          "data": {
            "text/html": [
              "<div>\n",
              "<style scoped>\n",
              "    .dataframe tbody tr th:only-of-type {\n",
              "        vertical-align: middle;\n",
              "    }\n",
              "\n",
              "    .dataframe tbody tr th {\n",
              "        vertical-align: top;\n",
              "    }\n",
              "\n",
              "    .dataframe thead th {\n",
              "        text-align: right;\n",
              "    }\n",
              "</style>\n",
              "<table border=\"1\" class=\"dataframe\">\n",
              "  <thead>\n",
              "    <tr style=\"text-align: right;\">\n",
              "      <th></th>\n",
              "      <th>Ask Size</th>\n",
              "      <th>Ask Price</th>\n",
              "    </tr>\n",
              "  </thead>\n",
              "  <tbody>\n",
              "    <tr>\n",
              "      <th>0</th>\n",
              "      <td>1000</td>\n",
              "      <td>11.38</td>\n",
              "    </tr>\n",
              "    <tr>\n",
              "      <th>1</th>\n",
              "      <td>700</td>\n",
              "      <td>11.39</td>\n",
              "    </tr>\n",
              "    <tr>\n",
              "      <th>2</th>\n",
              "      <td>800</td>\n",
              "      <td>11.40</td>\n",
              "    </tr>\n",
              "    <tr>\n",
              "      <th>3</th>\n",
              "      <td>900</td>\n",
              "      <td>11.41</td>\n",
              "    </tr>\n",
              "    <tr>\n",
              "      <th>4</th>\n",
              "      <td>500</td>\n",
              "      <td>11.42</td>\n",
              "    </tr>\n",
              "    <tr>\n",
              "      <th>5</th>\n",
              "      <td>400</td>\n",
              "      <td>11.43</td>\n",
              "    </tr>\n",
              "    <tr>\n",
              "      <th>6</th>\n",
              "      <td>600</td>\n",
              "      <td>11.44</td>\n",
              "    </tr>\n",
              "    <tr>\n",
              "      <th>7</th>\n",
              "      <td>800</td>\n",
              "      <td>11.45</td>\n",
              "    </tr>\n",
              "    <tr>\n",
              "      <th>8</th>\n",
              "      <td>1200</td>\n",
              "      <td>11.46</td>\n",
              "    </tr>\n",
              "    <tr>\n",
              "      <th>9</th>\n",
              "      <td>1000</td>\n",
              "      <td>11.47</td>\n",
              "    </tr>\n",
              "    <tr>\n",
              "      <th>10</th>\n",
              "      <td>1100</td>\n",
              "      <td>11.48</td>\n",
              "    </tr>\n",
              "    <tr>\n",
              "      <th>11</th>\n",
              "      <td>1200</td>\n",
              "      <td>11.49</td>\n",
              "    </tr>\n",
              "    <tr>\n",
              "      <th>12</th>\n",
              "      <td>1300</td>\n",
              "      <td>11.50</td>\n",
              "    </tr>\n",
              "  </tbody>\n",
              "</table>\n",
              "</div>"
            ],
            "text/plain": [
              "    Ask Size  Ask Price\n",
              "0       1000      11.38\n",
              "1        700      11.39\n",
              "2        800      11.40\n",
              "3        900      11.41\n",
              "4        500      11.42\n",
              "5        400      11.43\n",
              "6        600      11.44\n",
              "7        800      11.45\n",
              "8       1200      11.46\n",
              "9       1000      11.47\n",
              "10      1100      11.48\n",
              "11      1200      11.49\n",
              "12      1300      11.50"
            ]
          },
          "metadata": {
            "tags": []
          },
          "execution_count": 43
        }
      ]
    },
    {
      "cell_type": "code",
      "metadata": {
        "colab": {
          "base_uri": "https://localhost:8080/"
        },
        "id": "xltqaUvpvcJp",
        "outputId": "edcf3aca-4b09-467d-bc03-f5f539b17676"
      },
      "source": [
        "print(df2.head())\n",
        "print(\"---------------------------------\")\n",
        "print(df1.head())"
      ],
      "execution_count": null,
      "outputs": [
        {
          "output_type": "stream",
          "text": [
            "   Ask Size  Ask Price\n",
            "0      1000      11.38\n",
            "1       700      11.39\n",
            "2       800      11.40\n",
            "3       900      11.41\n",
            "4       500      11.42\n",
            "---------------------------------\n",
            "   Bid Size  Bid Price\n",
            "0      1000      11.35\n",
            "1       700      11.34\n",
            "2       800      11.33\n",
            "3       900      11.32\n",
            "4       500      11.31\n"
          ],
          "name": "stdout"
        }
      ]
    },
    {
      "cell_type": "markdown",
      "metadata": {
        "id": "S-lrdfyR1C-Q"
      },
      "source": [
        "###**Market Order**"
      ]
    },
    {
      "cell_type": "code",
      "metadata": {
        "colab": {
          "base_uri": "https://localhost:8080/"
        },
        "id": "zRZJbnu91Nck",
        "outputId": "bd28c54d-4304-487b-e210-431cd5509d8c"
      },
      "source": [
        "Number_Share=int(input(\"Enter Number Of Share\"))\n",
        "Buy_Sell=int(input(\"Enter 1 for sell and Enter Except 1 Anything for Buy\"))\n",
        "print(df2.head())\n",
        "print(\"---------------------------------\")\n",
        "print(df1.head())\n",
        "Bid_Size=list(df1[\"Bid Size\"])\n",
        "Bid_Price=list(df1[\"Bid Price\"])\n",
        "Ask_Size=list(df2[\"Ask Size\"])\n",
        "Ask_Price=list(df2[\"Ask Price\"])\n",
        "if(Buy_Sell==1):\n",
        "  i=0\n",
        "  while(Number_Share>0):\n",
        "    if(Number_Share>=Bid_Size[i]):\n",
        "      Number_Share=Number_Share-Bid_Size[i]\n",
        "      Bid_Price.remove(Bid_Price[i])\n",
        "      Bid_Size.remove(Bid_Size[i])\n",
        "    else:\n",
        "      Bid_Size[i]=Bid_Size[i]-Number_Share\n",
        "      Number_Share=0 \n",
        "else:\n",
        "  i=0\n",
        "  while(Number_Share>0):\n",
        "    if(Number_Share>=Ask_Size[i]):\n",
        "      Number_Share=Number_Share-Ask_Size[i]\n",
        "      Ask_Price.remove(Ask_Price[i])\n",
        "      Ask_Size.remove(Ask_Size[i])\n",
        "    else:\n",
        "      Ask_Size[i]=Ask_Size[i]-Number_Share\n",
        "      Number_Share=0   \n",
        "print(\"---------------------------------\")\n",
        "print(\"---------------------------------\")      \n",
        "\n",
        "df3=pd.DataFrame({\"Bid Size\":Bid_Size,\"Bid Price\": Bid_Price})       \n",
        "df4=pd.DataFrame({\"Ask Size\":Ask_Size,\"Ask Price\":Ask_Price})      \n",
        "print(df4.head())\n",
        "print(\"---------------------------------\")\n",
        "print(df3.head())      "
      ],
      "execution_count": null,
      "outputs": [
        {
          "output_type": "stream",
          "text": [
            "Enter Number Of Share1200\n",
            "Enter 1 for sell and Enter Except 1 Anything for Buy1\n",
            "   Ask Size  Ask Price\n",
            "0      1000      11.38\n",
            "1       700      11.39\n",
            "2       800      11.40\n",
            "3       900      11.41\n",
            "4       500      11.42\n",
            "---------------------------------\n",
            "   Bid Size  Bid Price\n",
            "0      1000      11.35\n",
            "1       700      11.34\n",
            "2       800      11.33\n",
            "3       900      11.32\n",
            "4       500      11.31\n",
            "---------------------------------\n",
            "---------------------------------\n",
            "   Ask Size  Ask Price\n",
            "0      1000      11.38\n",
            "1       700      11.39\n",
            "2       800      11.40\n",
            "3       900      11.41\n",
            "4       500      11.42\n",
            "---------------------------------\n",
            "   Bid Size  Bid Price\n",
            "0       500      11.34\n",
            "1       800      11.33\n",
            "2       900      11.32\n",
            "3       500      11.31\n",
            "4       400      11.30\n"
          ],
          "name": "stdout"
        }
      ]
    },
    {
      "cell_type": "markdown",
      "metadata": {
        "id": "sX92OGD5Bzvl"
      },
      "source": [
        "### Limit Order"
      ]
    },
    {
      "cell_type": "code",
      "metadata": {
        "id": "9NbxFBEH2e_q",
        "colab": {
          "base_uri": "https://localhost:8080/"
        },
        "outputId": "d4364297-1d8d-485f-bc4e-f260017a63f5"
      },
      "source": [
        "Number_Share=int(input(\"Enter Number Of Share\"))\n",
        "Limit_Price=float(input(\"Enter Limit Price\"))\n",
        "Buy_Sell=int(input(\"Enter 1 for sell and Enter Except 1 Anything for Buy\"))\n",
        "print(df2.head())\n",
        "print(\"---------------------------------\")\n",
        "print(df1.head())\n",
        "Bid_Size=list(df1[\"Bid Size\"])\n",
        "Bid_Price=list(df1[\"Bid Price\"])\n",
        "Ask_Size=list(df2[\"Ask Size\"])\n",
        "Ask_Price=list(df2[\"Ask Price\"])\n",
        "if(Buy_Sell==1):\n",
        "  if(Limit_Price>=min(Ask_Price)):\n",
        "    i=0\n",
        "    if(Limit_Price in Ask_Price):\n",
        "      for j in range(len(Ask_Price)):\n",
        "        if(Limit_Price==Ask_Price[i]):\n",
        "          Ask_Size[i]=Ask_Size[i]+Number_Share\n",
        "          break\n",
        "    else:\n",
        "      Ask_Size.append(Number_Share) \n",
        "      Ask_Price.append(Limit_Price) \n",
        "  else:\n",
        "    i=0\n",
        "    while(Number_Share>0):\n",
        "        if(Number_Share>=Bid_Size[i]):\n",
        "           Number_Share=Number_Share-Bid_Size[i]\n",
        "           Bid_Price.remove(Bid_Price[i])\n",
        "           Bid_Size.remove(Bid_Size[i])\n",
        "        else:\n",
        "           Bid_Size[i]=Bid_Size[i]-Number_Share\n",
        "           Number_Share=0 \n",
        "else:  \n",
        "  if(Limit_Price<=max(Bid_Price)):\n",
        "    i=0\n",
        "    if(Limit_Price in Bid_Price):\n",
        "      for j in range(len(Bid_Price)):\n",
        "        if(Limit_Price==Bid_Price[i]):\n",
        "          Bid_Size[i]=Bid_Size[i]+Number_Share\n",
        "          break\n",
        "    else:\n",
        "      Bid_Size.append(Number_Share) \n",
        "      Bid_Price.append(Limit_Price) \n",
        "  else:\n",
        "    i=0\n",
        "    while(Number_Share>0):\n",
        "        if(Number_Share>=Ask_Size[i]):\n",
        "           Number_Share=Number_Share-Ask_Size[i]\n",
        "           Ask_Price.remove(Ask_Price[i])\n",
        "           Ask_Size.remove(Ask_Size[i])\n",
        "        else:\n",
        "           Ask_Size[i]=Ask_Size[i]-Number_Share\n",
        "           Number_Share=0          \n",
        "print(\"---------------------------------\")\n",
        "print(\"---------------------------------\")      \n",
        "\n",
        "df3=pd.DataFrame({\"Bid Size\":Bid_Size,\"Bid Price\": Bid_Price})       \n",
        "df4=pd.DataFrame({\"Ask Size\":Ask_Size,\"Ask Price\":Ask_Price})      \n",
        "print(df4.head())\n",
        "print(\"---------------------------------\")\n",
        "print(df3.head())      "
      ],
      "execution_count": 60,
      "outputs": [
        {
          "output_type": "stream",
          "text": [
            "Enter Number Of Share100\n",
            "Enter Limit Price11.35\n",
            "Enter 1 for sell and Enter Except 1 Anything for Buy2\n",
            "   Ask Size  Ask Price\n",
            "0      1000      11.38\n",
            "1       700      11.39\n",
            "2       800      11.40\n",
            "3       900      11.41\n",
            "4       500      11.42\n",
            "---------------------------------\n",
            "   Bid Size  Bid Price\n",
            "0      1000      11.35\n",
            "1       700      11.34\n",
            "2       800      11.33\n",
            "3       900      11.32\n",
            "4       500      11.31\n",
            "---------------------------------\n",
            "---------------------------------\n",
            "   Ask Size  Ask Price\n",
            "0      1000      11.38\n",
            "1       700      11.39\n",
            "2       800      11.40\n",
            "3       900      11.41\n",
            "4       500      11.42\n",
            "---------------------------------\n",
            "   Bid Size  Bid Price\n",
            "0      1100      11.35\n",
            "1       700      11.34\n",
            "2       800      11.33\n",
            "3       900      11.32\n",
            "4       500      11.31\n"
          ],
          "name": "stdout"
        }
      ]
    },
    {
      "cell_type": "code",
      "metadata": {
        "id": "A1Hsm9Fj2fCV"
      },
      "source": [
        ""
      ],
      "execution_count": null,
      "outputs": []
    },
    {
      "cell_type": "code",
      "metadata": {
        "id": "o0ubdxqW2fD8"
      },
      "source": [
        ""
      ],
      "execution_count": null,
      "outputs": []
    },
    {
      "cell_type": "code",
      "metadata": {
        "id": "b-kbfFeS2fFi"
      },
      "source": [
        ""
      ],
      "execution_count": null,
      "outputs": []
    },
    {
      "cell_type": "code",
      "metadata": {
        "id": "K09fnKCu2fIz"
      },
      "source": [
        ""
      ],
      "execution_count": null,
      "outputs": []
    }
  ]
}